{
 "cells": [
  {
   "cell_type": "markdown",
   "id": "55879a05",
   "metadata": {},
   "source": [
    "## Medical Insurance Costs Projects"
   ]
  },
  {
   "cell_type": "markdown",
   "id": "3bf92f12",
   "metadata": {},
   "source": [
    "#### Introduction"
   ]
  },
  {
   "cell_type": "markdown",
   "id": "20c9088b",
   "metadata": {},
   "source": [
    "In this project, I will be organising and then analyzing data provided in a 'csv' file. This file contains thousands of medical insurance records. Upon visual analasis I can see that each row of data consists on a different person in the dataset. The seven columns are as follows: age, sex, bmi, children, smoker, region, charges."
   ]
  },
  {
   "cell_type": "markdown",
   "id": "52136ee5",
   "metadata": {},
   "source": [
    "First, I will export the data from this file and create a typical, or average, person model to get a sense of the majority in this set of data. In the second part I will create a class for this data with a constructor to a create instances based on these values. Upon creating this, I will apply methods to my class to compare each person instance to the average. Finally, I will figure out the affect of BMI on an individual's insurance cost."
   ]
  },
  {
   "cell_type": "markdown",
   "id": "d8a26879",
   "metadata": {},
   "source": [
    "Importing csv module:"
   ]
  },
  {
   "cell_type": "code",
   "execution_count": 2,
   "id": "53d7f3ca",
   "metadata": {},
   "outputs": [],
   "source": [
    "import csv"
   ]
  },
  {
   "cell_type": "markdown",
   "id": "78fec1b0",
   "metadata": {},
   "source": [
    "Lists to extract the data into and extracting the data:"
   ]
  },
  {
   "cell_type": "code",
   "execution_count": 4,
   "id": "6bd3c99e",
   "metadata": {},
   "outputs": [],
   "source": [
    "ages = []\n",
    "sexes = []\n",
    "bmis = []\n",
    "children = []\n",
    "smokers = []\n",
    "regions = []\n",
    "charges = []"
   ]
  },
  {
   "cell_type": "code",
   "execution_count": 5,
   "id": "b152c6f4",
   "metadata": {},
   "outputs": [],
   "source": [
    "with open('insurance.csv') as insurance:\n",
    "    insurance_data = csv.DictReader(insurance)\n",
    "    for data in insurance_data:\n",
    "        ages.append(data['age'])\n",
    "        sexes.append(data['sex'])\n",
    "        bmis.append(data['bmi'])\n",
    "        children.append(data['children'])\n",
    "        smokers.append(data['smoker'])\n",
    "        regions.append(data['region'])\n",
    "        charges.append(data['charges'])"
   ]
  },
  {
   "cell_type": "markdown",
   "id": "5df9189c",
   "metadata": {},
   "source": [
    "In order to manipulate numerical data later, I will need to change any values that are numbers into floats "
   ]
  },
  {
   "cell_type": "code",
   "execution_count": 24,
   "id": "10c25113",
   "metadata": {},
   "outputs": [],
   "source": [
    "ages_float = []\n",
    "bmis_float = []\n",
    "children_float = []\n",
    "charges_float = []\n",
    "\n",
    "def to_float(lst_1, lst_2):\n",
    "    for x in range(0, len(lst_1)):\n",
    "        lst_2.append(float(lst_1[x]))"
   ]
  },
  {
   "cell_type": "code",
   "execution_count": 25,
   "id": "80601ba0",
   "metadata": {},
   "outputs": [],
   "source": [
    "to_float(ages, ages_float)\n",
    "to_float(bmis, bmis_float)\n",
    "to_float(children, children_float)\n",
    "to_float(charges, charges_float)"
   ]
  },
  {
   "cell_type": "markdown",
   "id": "c48e85d1",
   "metadata": {},
   "source": [
    "Test to see in my to_float function worked"
   ]
  },
  {
   "cell_type": "code",
   "execution_count": 26,
   "id": "80427fd1",
   "metadata": {},
   "outputs": [
    {
     "name": "stdout",
     "output_type": "stream",
     "text": [
      "<class 'float'>\n",
      "1338 1338\n"
     ]
    }
   ],
   "source": [
    "print(type(ages_float[0]))\n",
    "print(len(ages), len(ages_float))"
   ]
  },
  {
   "cell_type": "markdown",
   "id": "767bab09",
   "metadata": {},
   "source": [
    "#### Part 1 -  Creating the Average Person"
   ]
  },
  {
   "cell_type": "markdown",
   "id": "d6ae5f9a",
   "metadata": {},
   "source": [
    "1. Age"
   ]
  },
  {
   "cell_type": "code",
   "execution_count": 47,
   "id": "3fb8767d",
   "metadata": {},
   "outputs": [],
   "source": [
    "def calculate_ave_age():\n",
    "    total_age = 0\n",
    "    for age in ages_float:\n",
    "        total_age += age\n",
    "    return total_age / len(ages_float)"
   ]
  },
  {
   "cell_type": "code",
   "execution_count": 50,
   "id": "e74b5345",
   "metadata": {},
   "outputs": [
    {
     "name": "stdout",
     "output_type": "stream",
     "text": [
      "The average age is 39.21 to two decimal places\n"
     ]
    }
   ],
   "source": [
    "print(f\"The average age is {calculate_ave_age():.2f} to two decimal places\")"
   ]
  },
  {
   "cell_type": "markdown",
   "id": "42647f77",
   "metadata": {},
   "source": [
    "2. Sex - percentage split"
   ]
  },
  {
   "cell_type": "code",
   "execution_count": 63,
   "id": "aef38a3a",
   "metadata": {},
   "outputs": [],
   "source": [
    "def sex_percent():\n",
    "    male_count = 0\n",
    "    female_count = 0\n",
    "    total_count = 0\n",
    "    for sex in sexes:\n",
    "        if (sex == 'male'):\n",
    "            male_count += 1\n",
    "        elif (sex == 'female'):\n",
    "            female_count += 1\n",
    "        total_count += 1\n",
    "    male_percentage = male_count / total_count * 100\n",
    "    female_percentage = female_count / total_count * 100\n",
    "    return f\"Male Percentge: {male_percentage:.2f}%, Female Percentage: {female_percentage:.2f}%\"\n",
    "    "
   ]
  },
  {
   "cell_type": "code",
   "execution_count": 64,
   "id": "8675cdbb",
   "metadata": {},
   "outputs": [
    {
     "name": "stdout",
     "output_type": "stream",
     "text": [
      "Male Percentge: 50.52%, Female Percentage: 49.48%\n"
     ]
    }
   ],
   "source": [
    "print(sex_percent())"
   ]
  },
  {
   "cell_type": "code",
   "execution_count": 65,
   "id": "fe011ea5",
   "metadata": {},
   "outputs": [],
   "source": [
    "def return_common_sex():\n",
    "    male_count = 0\n",
    "    female_count = 0\n",
    "    total_count = 0\n",
    "    for sex in sexes:\n",
    "        if (sex == 'male'):\n",
    "            male_count += 1\n",
    "        elif (sex == 'female'):\n",
    "            female_count += 1\n",
    "    if (male_count > female_count):\n",
    "        return 'male'\n",
    "    elif (female_count > male_count):\n",
    "        return 'female'\n",
    "    else:\n",
    "        return 'unisex'"
   ]
  },
  {
   "cell_type": "markdown",
   "id": "e010164c",
   "metadata": {},
   "source": [
    "Most common sex is:"
   ]
  },
  {
   "cell_type": "code",
   "execution_count": 77,
   "id": "646f9e46",
   "metadata": {},
   "outputs": [
    {
     "name": "stdout",
     "output_type": "stream",
     "text": [
      "male\n"
     ]
    }
   ],
   "source": [
    "print(return_common_sex())"
   ]
  },
  {
   "cell_type": "markdown",
   "id": "50a8ebcd",
   "metadata": {},
   "source": [
    "3. BMI"
   ]
  },
  {
   "cell_type": "code",
   "execution_count": 51,
   "id": "5c3dfb00",
   "metadata": {},
   "outputs": [],
   "source": [
    "def calculate_ave_bmi():\n",
    "    total_bmi = 0\n",
    "    for bmi in bmis_float:\n",
    "        total_bmi += bmi\n",
    "    return total_bmi / len(bmis_float)"
   ]
  },
  {
   "cell_type": "code",
   "execution_count": 53,
   "id": "f8f38c5c",
   "metadata": {},
   "outputs": [
    {
     "name": "stdout",
     "output_type": "stream",
     "text": [
      "The average BMI is: 30.66\n"
     ]
    }
   ],
   "source": [
    "print(f\"The average BMI is: {calculate_ave_bmi():.2f}\")"
   ]
  },
  {
   "cell_type": "markdown",
   "id": "af28214a",
   "metadata": {},
   "source": [
    "4. Number of Children"
   ]
  },
  {
   "cell_type": "code",
   "execution_count": 54,
   "id": "277b0cc5",
   "metadata": {},
   "outputs": [],
   "source": [
    "def calculate_ave_children():\n",
    "    total_children = 0\n",
    "    for child in children_float:\n",
    "        total_children += child\n",
    "    return total_children / len(children_float)"
   ]
  },
  {
   "cell_type": "code",
   "execution_count": 55,
   "id": "60647811",
   "metadata": {},
   "outputs": [
    {
     "name": "stdout",
     "output_type": "stream",
     "text": [
      "The average number of children the people in this datset have is: 1.1\n"
     ]
    }
   ],
   "source": [
    "print(f\"The average number of children the people in this datset have is: {calculate_ave_children():.1f}\")"
   ]
  },
  {
   "cell_type": "markdown",
   "id": "e35eb289",
   "metadata": {},
   "source": [
    "5. Smoking Status"
   ]
  },
  {
   "cell_type": "code",
   "execution_count": 70,
   "id": "918e1e21",
   "metadata": {},
   "outputs": [],
   "source": [
    "def smoker_percentage():\n",
    "    smoker_count = 0\n",
    "    non_smoker_count = 0\n",
    "    total_count = 0\n",
    "    for smoker in smokers:\n",
    "        if (smoker == 'yes'):\n",
    "            smoker_count += 1\n",
    "        elif (smoker == 'no'):\n",
    "            non_smoker_count += 1\n",
    "        total_count += 1\n",
    "    smoker_percentage = smoker_count / total_count * 100\n",
    "    non_smoker_percentage = non_smoker_count / total_count * 100\n",
    "    return f\"Smokers: {smoker_percentage:.2f}%, Non-smokers: {non_smoker_percentage:.2f}%\""
   ]
  },
  {
   "cell_type": "code",
   "execution_count": 71,
   "id": "5b2ceb6e",
   "metadata": {},
   "outputs": [
    {
     "name": "stdout",
     "output_type": "stream",
     "text": [
      "Smokers: 20.48%, Non-smokers: 79.52%\n"
     ]
    }
   ],
   "source": [
    "print(smoker_percentage())"
   ]
  },
  {
   "cell_type": "code",
   "execution_count": 182,
   "id": "09378cef",
   "metadata": {},
   "outputs": [],
   "source": [
    "def return_common_smoker():\n",
    "    smoker_count = 0\n",
    "    non_smoker_count = 0\n",
    "    total_count = 0\n",
    "    for smoker in smokers:\n",
    "        if (smoker == 'yes'):\n",
    "            smoker_count += 1\n",
    "        elif (smoker == 'no'):\n",
    "            non_smoker_count += 1\n",
    "    if (smoker_count > non_smoker_count):\n",
    "        common_smoker = 'smoker'\n",
    "    elif (non_smoker_count > smoker_count):\n",
    "        common_smoker = 'non_smoker'\n",
    "    return common_smoker"
   ]
  },
  {
   "cell_type": "markdown",
   "id": "8a2df92d",
   "metadata": {},
   "source": [
    "Most common smoker status is:"
   ]
  },
  {
   "cell_type": "code",
   "execution_count": 183,
   "id": "23aaf27c",
   "metadata": {},
   "outputs": [
    {
     "name": "stdout",
     "output_type": "stream",
     "text": [
      "non_smoker\n"
     ]
    }
   ],
   "source": [
    "print(return_common_smoker())"
   ]
  },
  {
   "cell_type": "markdown",
   "id": "b691e12e",
   "metadata": {},
   "source": [
    "6. Region"
   ]
  },
  {
   "cell_type": "markdown",
   "id": "2378f0f0",
   "metadata": {},
   "source": [
    "Which regions are in the dataset?"
   ]
  },
  {
   "cell_type": "code",
   "execution_count": 78,
   "id": "3f9205c9",
   "metadata": {},
   "outputs": [
    {
     "name": "stdout",
     "output_type": "stream",
     "text": [
      "{'southwest', 'northeast', 'southeast', 'northwest'}\n"
     ]
    }
   ],
   "source": [
    "unique_regions = set(regions)\n",
    "print(unique_regions)"
   ]
  },
  {
   "cell_type": "markdown",
   "id": "40dcba75",
   "metadata": {},
   "source": [
    "Great. How are they represented in the data?"
   ]
  },
  {
   "cell_type": "code",
   "execution_count": 170,
   "id": "1a3076ab",
   "metadata": {},
   "outputs": [],
   "source": [
    "def count_by_region():\n",
    "    regions_sorted = []\n",
    "    northwest_count = 0\n",
    "    southeast_count = 0\n",
    "    southwest_count = 0\n",
    "    northeast_count = 0\n",
    "    for region in regions:\n",
    "        if(region == 'northwest'):\n",
    "            northwest_count += 1\n",
    "        elif(region == 'southeast'):\n",
    "            southeast_count += 1\n",
    "        elif(region == 'southwest'):\n",
    "            southwest_count += 1\n",
    "        else:\n",
    "            northeast_count += 1\n",
    "    regions_dict = {\n",
    "        \"northwest\": northwest_count,\n",
    "        \"southeast\": southeast_count,\n",
    "        \"southwest\": southwest_count,\n",
    "        \"northeast\": northeast_count\n",
    "    }\n",
    "    regions_dict_sorted = {region: count for region, count in sorted(regions_dict.items(), key=lambda item: item[1], reverse=True)}\n",
    "    for region in regions_dict_sorted:\n",
    "        regions_sorted.append(region)\n",
    "        common_region = ''.join(regions_sorted)\n",
    "        return common_region"
   ]
  },
  {
   "cell_type": "code",
   "execution_count": 171,
   "id": "5ed6128b",
   "metadata": {},
   "outputs": [
    {
     "name": "stdout",
     "output_type": "stream",
     "text": [
      "southeast\n"
     ]
    }
   ],
   "source": [
    "print(count_by_region())"
   ]
  },
  {
   "cell_type": "markdown",
   "id": "d872e7f0",
   "metadata": {},
   "source": [
    "7. Charges"
   ]
  },
  {
   "cell_type": "code",
   "execution_count": 56,
   "id": "c6350da9",
   "metadata": {},
   "outputs": [],
   "source": [
    "def calculate_ave_charges():\n",
    "    total_charges = 0\n",
    "    for charge in charges_float:\n",
    "        total_charges += charge\n",
    "    return total_charges / len(charges_float)"
   ]
  },
  {
   "cell_type": "code",
   "execution_count": 57,
   "id": "0622d6b5",
   "metadata": {},
   "outputs": [
    {
     "name": "stdout",
     "output_type": "stream",
     "text": [
      "The average medical costs for this set is: $13270.42\n"
     ]
    }
   ],
   "source": [
    "print(f\"The average medical costs for this set is: ${calculate_ave_charges():.2f}\")"
   ]
  },
  {
   "cell_type": "markdown",
   "id": "8092e58f",
   "metadata": {},
   "source": [
    "Okay, what is the average person?"
   ]
  },
  {
   "cell_type": "code",
   "execution_count": 177,
   "id": "c660e51d",
   "metadata": {},
   "outputs": [
    {
     "name": "stdout",
     "output_type": "stream",
     "text": [
      "The average person in this dataset is:\n",
      "A 39 year old male, who lives in the southeast\n",
      "They are a non_smoker with a BMI of 30.7 and have 1.1 children\n",
      "Their medical insurance costs are $13270.42\n"
     ]
    }
   ],
   "source": [
    "print(\"The average person in this dataset is:\")\n",
    "print(f\"A {calculate_ave_age():.0f} year old {return_common_sex()}, who lives in the {count_by_region()}\")\n",
    "print(f\"They are a {return_common_smoker()} with a BMI of {calculate_ave_bmi():.1f} and have {calculate_ave_children():.1f} children\")\n",
    "print(f\"Their medical insurance costs are ${calculate_ave_charges():.2f}\")"
   ]
  },
  {
   "cell_type": "markdown",
   "id": "c9f11131",
   "metadata": {},
   "source": [
    "#### Part 2 - Creating & Implementing My Class"
   ]
  },
  {
   "cell_type": "markdown",
   "id": "5b65dd6a",
   "metadata": {},
   "source": [
    "Here I will create a class of Person, taking in each column as arguments in my constructor, and a repr function to summarize each person and then testing the class, remembering to use floats where needed."
   ]
  },
  {
   "cell_type": "code",
   "execution_count": 199,
   "id": "07085b83",
   "metadata": {},
   "outputs": [],
   "source": [
    "class Person:\n",
    "    def __init__(self, age, sex, bmi, children, smoker, region, charges):\n",
    "        self.age = age\n",
    "        self.sex = sex\n",
    "        self.bmi = bmi\n",
    "        self.children = children\n",
    "        self.smoker = smoker\n",
    "        self.region = region\n",
    "        self.charges = charges\n",
    "    \n",
    "    def __repr__(self):\n",
    "        return f\"This person is a {self.age:.0f} year old {self.sex} with a BMI of {self.bmi}. They have {self.children:.0f} children living in the {self.region} and pay ${self.charges:.2f} per year for their medical costs\"\n",
    "    \n",
    "    def compare_to_ave_age(self):\n",
    "        if (self.age < calculate_ave_age()):\n",
    "            print(\"This person is younger than average\")\n",
    "        elif (self.age > calculate_ave_age()):\n",
    "            print(\"This person is older than average\")\n",
    "        else:\n",
    "            print(\"This person's age is equal to the average\")\n",
    "            \n",
    "    def compare_to_ave_bmi(self):\n",
    "        if (self.bmi < calculate_ave_bmi()):\n",
    "            print(\"This person's BMI is lower than the average of this dataset\")\n",
    "        elif (self.bmi > calculate_ave_bmi()):\n",
    "            print(\"This person's BMI is higher than the average of this dataset\")\n",
    "        else:\n",
    "            print(\"This person's BMI is equal to the average\")\n",
    "            \n",
    "    def compare_to_ave_charges(self):\n",
    "        if (self.charges < calculate_ave_charges()):\n",
    "            print(\"This person's insurance costs are lower than the average of this dataset\")\n",
    "        elif (self.charges > calculate_ave_charges()):\n",
    "            print(\"This person's insurance costs higher than the average of this dataset\")\n",
    "        else:\n",
    "            print(\"This person's insurance costs are equal to the average\")"
   ]
  },
  {
   "cell_type": "markdown",
   "id": "1131b6b1",
   "metadata": {},
   "source": [
    "#### Part 3 - Adding methods to my class and comparing to the average"
   ]
  },
  {
   "cell_type": "markdown",
   "id": "54bf3e4e",
   "metadata": {},
   "source": [
    "## Methods I will implement:\n",
    "- Compare to average age\n",
    "- Compare to average BMI\n",
    "- Compare to average charges"
   ]
  },
  {
   "cell_type": "markdown",
   "id": "0476d4a7",
   "metadata": {},
   "source": [
    "### Test person at index '0'"
   ]
  },
  {
   "cell_type": "code",
   "execution_count": 200,
   "id": "c14c4525",
   "metadata": {},
   "outputs": [
    {
     "name": "stdout",
     "output_type": "stream",
     "text": [
      "This person is a 19 year old female with a BMI of 27.9. They have 0 children living in the southwest and pay $16884.92 per year for their medical costs\n"
     ]
    }
   ],
   "source": [
    "person0 = Person(ages_float[0], sexes[0], bmis_float[0], children_float[0], smokers[0], regions[0], charges_float[0])\n",
    "print(person0)"
   ]
  },
  {
   "cell_type": "code",
   "execution_count": 201,
   "id": "d4c77889",
   "metadata": {},
   "outputs": [
    {
     "name": "stdout",
     "output_type": "stream",
     "text": [
      "This person is younger than average\n",
      "This person's BMI is lower than the average of this dataset\n",
      "This person's insurance costs higher than the average of this dataset\n"
     ]
    }
   ],
   "source": [
    "person0.compare_to_ave_age()\n",
    "person0.compare_to_ave_bmi()\n",
    "person0.compare_to_ave_charges()"
   ]
  },
  {
   "cell_type": "markdown",
   "id": "76d0f1ab",
   "metadata": {},
   "source": [
    "### A Surprise - To Finish"
   ]
  },
  {
   "cell_type": "markdown",
   "id": "51de8317",
   "metadata": {},
   "source": [
    "To finish my project, I will write a function that generates a random person from the person class, and runs the methods to tell you about this person that has been generated."
   ]
  },
  {
   "cell_type": "code",
   "execution_count": 205,
   "id": "fb3a50b1",
   "metadata": {},
   "outputs": [],
   "source": [
    "import random\n",
    "def get_random_person():\n",
    "    a = random.randint(0,len(ages)-1)\n",
    "    random_person = Person(ages_float[a], sexes[a], bmis_float[a], children_float[a], smokers[a], regions[a], charges_float[a])\n",
    "    print(random_person)\n",
    "    random_person.compare_to_ave_age()\n",
    "    random_person.compare_to_ave_bmi()\n",
    "    random_person.compare_to_ave_charges()\n"
   ]
  },
  {
   "cell_type": "code",
   "execution_count": 214,
   "id": "9736805f",
   "metadata": {},
   "outputs": [
    {
     "name": "stdout",
     "output_type": "stream",
     "text": [
      "This person is a 25 year old female with a BMI of 23.465. They have 0 children living in the northeast and pay $3206.49 per year for their medical costs\n",
      "This person is younger than average\n",
      "This person's BMI is lower than the average of this dataset\n",
      "This person's insurance costs are lower than the average of this dataset\n"
     ]
    }
   ],
   "source": [
    "get_random_person()"
   ]
  }
 ],
 "metadata": {
  "kernelspec": {
   "display_name": "Python 3 (ipykernel)",
   "language": "python",
   "name": "python3"
  },
  "language_info": {
   "codemirror_mode": {
    "name": "ipython",
    "version": 3
   },
   "file_extension": ".py",
   "mimetype": "text/x-python",
   "name": "python",
   "nbconvert_exporter": "python",
   "pygments_lexer": "ipython3",
   "version": "3.9.7"
  }
 },
 "nbformat": 4,
 "nbformat_minor": 5
}
